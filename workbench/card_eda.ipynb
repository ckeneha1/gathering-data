{
 "cells": [
  {
   "cell_type": "markdown",
   "id": "bc40af45-5f2b-47ee-bac7-7baa3e57920c",
   "metadata": {},
   "source": [
    "Let's take a look at some card-level data, courtesy of mtgjson.\n",
    "Here's specifically where to find what I'm using:\n",
    "https://mtgjson.com/downloads/all-files/"
   ]
  },
  {
   "cell_type": "code",
   "execution_count": 26,
   "id": "12b613cc-731d-4d66-9247-4ccceec9e5df",
   "metadata": {},
   "outputs": [],
   "source": [
    "# data_path = '/Users/connorkenehan/Documents/GitHub/gathering-data/data/AtomicCards.json.zip'\n",
    "data_path = '/Users/connorkenehan/Downloads/AtomicCards.json'\n",
    "import pandas as pd\n",
    "data = pd.read_json(data_path)"
   ]
  },
  {
   "cell_type": "code",
   "execution_count": 27,
   "id": "14520e22-2aa9-4419-a0b0-0a0262cbc2a1",
   "metadata": {},
   "outputs": [
    {
     "data": {
      "text/html": [
       "<div>\n",
       "<style scoped>\n",
       "    .dataframe tbody tr th:only-of-type {\n",
       "        vertical-align: middle;\n",
       "    }\n",
       "\n",
       "    .dataframe tbody tr th {\n",
       "        vertical-align: top;\n",
       "    }\n",
       "\n",
       "    .dataframe thead th {\n",
       "        text-align: right;\n",
       "    }\n",
       "</style>\n",
       "<table border=\"1\" class=\"dataframe\">\n",
       "  <thead>\n",
       "    <tr style=\"text-align: right;\">\n",
       "      <th></th>\n",
       "      <th>meta</th>\n",
       "      <th>data</th>\n",
       "    </tr>\n",
       "  </thead>\n",
       "  <tbody>\n",
       "    <tr>\n",
       "      <th>date</th>\n",
       "      <td>2023-08-24</td>\n",
       "      <td>NaN</td>\n",
       "    </tr>\n",
       "    <tr>\n",
       "      <th>version</th>\n",
       "      <td>5.2.1+20230824</td>\n",
       "      <td>NaN</td>\n",
       "    </tr>\n",
       "    <tr>\n",
       "      <th>\"Ach! Hans, Run!\"</th>\n",
       "      <td>NaN</td>\n",
       "      <td>[{'colorIdentity': ['G', 'R'], 'colors': ['G',...</td>\n",
       "    </tr>\n",
       "    <tr>\n",
       "      <th>\"Brims\" Barone, Midway Mobster</th>\n",
       "      <td>NaN</td>\n",
       "      <td>[{'colorIdentity': ['B', 'W'], 'colors': ['B',...</td>\n",
       "    </tr>\n",
       "    <tr>\n",
       "      <th>\"Lifetime\" Pass Holder</th>\n",
       "      <td>NaN</td>\n",
       "      <td>[{'colorIdentity': ['B'], 'colors': ['B'], 'co...</td>\n",
       "    </tr>\n",
       "  </tbody>\n",
       "</table>\n",
       "</div>"
      ],
      "text/plain": [
       "                                          meta  \\\n",
       "date                                2023-08-24   \n",
       "version                         5.2.1+20230824   \n",
       "\"Ach! Hans, Run!\"                          NaN   \n",
       "\"Brims\" Barone, Midway Mobster             NaN   \n",
       "\"Lifetime\" Pass Holder                     NaN   \n",
       "\n",
       "                                                                             data  \n",
       "date                                                                          NaN  \n",
       "version                                                                       NaN  \n",
       "\"Ach! Hans, Run!\"               [{'colorIdentity': ['G', 'R'], 'colors': ['G',...  \n",
       "\"Brims\" Barone, Midway Mobster  [{'colorIdentity': ['B', 'W'], 'colors': ['B',...  \n",
       "\"Lifetime\" Pass Holder          [{'colorIdentity': ['B'], 'colors': ['B'], 'co...  "
      ]
     },
     "execution_count": 27,
     "metadata": {},
     "output_type": "execute_result"
    }
   ],
   "source": [
    "#let's see how the whole dataframe looks\n",
    "data.head()"
   ]
  },
  {
   "cell_type": "code",
   "execution_count": 31,
   "id": "c81677a0-86a6-40f7-bc61-266d457c0538",
   "metadata": {},
   "outputs": [
    {
     "data": {
      "text/plain": [
       "[{'colorIdentity': ['B'],\n",
       "  'colors': ['B'],\n",
       "  'convertedManaCost': 1.0,\n",
       "  'edhrecRank': 11700,\n",
       "  'firstPrinting': 'UNF',\n",
       "  'foreignData': [],\n",
       "  'identifiers': {'scryfallOracleId': '7bf6f13a-3c90-4bda-bc84-e026828bf4d1'},\n",
       "  'keywords': ['Open an Attraction', 'Roll to Visit Your Attractions'],\n",
       "  'layout': 'normal',\n",
       "  'legalities': {'commander': 'Legal',\n",
       "   'duel': 'Legal',\n",
       "   'legacy': 'Legal',\n",
       "   'oathbreaker': 'Legal',\n",
       "   'vintage': 'Legal'},\n",
       "  'manaCost': '{B}',\n",
       "  'manaValue': 1.0,\n",
       "  'name': '\"Lifetime\" Pass Holder',\n",
       "  'power': '2',\n",
       "  'printings': ['UNF'],\n",
       "  'purchaseUrls': {'cardKingdom': 'https://mtgjson.com/links/9e1631dd345f664d',\n",
       "   'cardKingdomFoil': 'https://mtgjson.com/links/67667a01d3ca6254',\n",
       "   'cardmarket': 'https://mtgjson.com/links/4814d0ee0bfce13a',\n",
       "   'tcgplayer': 'https://mtgjson.com/links/e13efc749614f1a8'},\n",
       "  'subtypes': ['Zombie', 'Guest'],\n",
       "  'supertypes': [],\n",
       "  'text': '\"Lifetime\" Pass Holder enters the battlefield tapped.\\nWhen \"Lifetime\" Pass Holder dies, open an Attraction.\\nWhenever you roll to visit your Attractions, if you roll a 6, you may return \"Lifetime\" Pass Holder from your graveyard to the battlefield.',\n",
       "  'toughness': '1',\n",
       "  'type': 'Creature — Zombie Guest',\n",
       "  'types': ['Creature']}]"
      ]
     },
     "execution_count": 31,
     "metadata": {},
     "output_type": "execute_result"
    }
   ],
   "source": [
    "#that third field looks funky, let's check out an individual row\n",
    "data.iloc[4]['data']"
   ]
  },
  {
   "cell_type": "markdown",
   "id": "65d045a5-eaa0-4ae0-8689-7de2e7a5bfac",
   "metadata": {},
   "source": [
    "When we take a quick look at how our dataframe appears from the get-go, it's\n",
    "clear that we need to do some additional work to transform it into something\n",
    "we can easily work with and learn from.  Let's clean that data!"
   ]
  },
  {
   "cell_type": "markdown",
   "id": "df959fef-5068-4c50-b987-b230ca489ad2",
   "metadata": {},
   "source": [
    "Some observations from eyeballing the first few rows:\n",
    "1. We have three fields.\n",
    "2. The first field seems to be a card name\n",
    "3. The second field, called meta, appears to be metadata which we won't actually need while analyzing cards\n",
    "4. The third field, called data, seems to have everything we need in it...it's just all smooshed in a dictionary inside of a list.  So we'll have to unpack that a bit.\n",
    "\n",
    "Let's get into it and clean that data!"
   ]
  },
  {
   "cell_type": "markdown",
   "id": "836d667e-1be6-45c6-b20b-dee195b898df",
   "metadata": {},
   "source": [
    "We know that there's some amount of null values in this dataset.  How much, and in what fields?"
   ]
  },
  {
   "cell_type": "code",
   "execution_count": 42,
   "id": "f785ba92-7f14-47a8-948c-a3f452d17baa",
   "metadata": {},
   "outputs": [
    {
     "name": "stdout",
     "output_type": "stream",
     "text": [
      "27352 total rows\n",
      "\n",
      " index : 0 null rows\n",
      "\n",
      " meta : 27350 null rows\n",
      "\n",
      " data : 2 null rows\n"
     ]
    }
   ],
   "source": [
    "cleaned_data = data.reset_index()\n",
    "print(len(cleaned_data),'total rows')\n",
    "for column in cleaned_data.columns:\n",
    "    na_count = cleaned_data[column].isna().sum()\n",
    "    print('\\n',column,':',na_count,'null rows')\n"
   ]
  },
  {
   "cell_type": "markdown",
   "id": "2ae0701c-cac8-453c-ab74-dfaf1f83daaa",
   "metadata": {},
   "source": [
    "Ok, so these counts tell us that our meta column is only those two rows we saw when we looked at the top chunk of the dataset.  We also learn that our main (data) field only has two nulls in it, which we also saw earlier.  Let's drop those null fields."
   ]
  },
  {
   "cell_type": "code",
   "execution_count": 43,
   "id": "06cd9b89-6e93-4eb5-a14f-fd25783756f8",
   "metadata": {},
   "outputs": [
    {
     "data": {
      "text/html": [
       "<div>\n",
       "<style scoped>\n",
       "    .dataframe tbody tr th:only-of-type {\n",
       "        vertical-align: middle;\n",
       "    }\n",
       "\n",
       "    .dataframe tbody tr th {\n",
       "        vertical-align: top;\n",
       "    }\n",
       "\n",
       "    .dataframe thead th {\n",
       "        text-align: right;\n",
       "    }\n",
       "</style>\n",
       "<table border=\"1\" class=\"dataframe\">\n",
       "  <thead>\n",
       "    <tr style=\"text-align: right;\">\n",
       "      <th></th>\n",
       "      <th>index</th>\n",
       "      <th>data</th>\n",
       "    </tr>\n",
       "  </thead>\n",
       "  <tbody>\n",
       "    <tr>\n",
       "      <th>2</th>\n",
       "      <td>\"Ach! Hans, Run!\"</td>\n",
       "      <td>[{'colorIdentity': ['G', 'R'], 'colors': ['G',...</td>\n",
       "    </tr>\n",
       "    <tr>\n",
       "      <th>3</th>\n",
       "      <td>\"Brims\" Barone, Midway Mobster</td>\n",
       "      <td>[{'colorIdentity': ['B', 'W'], 'colors': ['B',...</td>\n",
       "    </tr>\n",
       "    <tr>\n",
       "      <th>4</th>\n",
       "      <td>\"Lifetime\" Pass Holder</td>\n",
       "      <td>[{'colorIdentity': ['B'], 'colors': ['B'], 'co...</td>\n",
       "    </tr>\n",
       "    <tr>\n",
       "      <th>5</th>\n",
       "      <td>\"Rumors of My Death . . .\"</td>\n",
       "      <td>[{'colorIdentity': ['B'], 'colors': ['B'], 'co...</td>\n",
       "    </tr>\n",
       "    <tr>\n",
       "      <th>6</th>\n",
       "      <td>+2 Mace</td>\n",
       "      <td>[{'colorIdentity': ['W'], 'colors': ['W'], 'co...</td>\n",
       "    </tr>\n",
       "  </tbody>\n",
       "</table>\n",
       "</div>"
      ],
      "text/plain": [
       "                            index  \\\n",
       "2               \"Ach! Hans, Run!\"   \n",
       "3  \"Brims\" Barone, Midway Mobster   \n",
       "4          \"Lifetime\" Pass Holder   \n",
       "5      \"Rumors of My Death . . .\"   \n",
       "6                         +2 Mace   \n",
       "\n",
       "                                                data  \n",
       "2  [{'colorIdentity': ['G', 'R'], 'colors': ['G',...  \n",
       "3  [{'colorIdentity': ['B', 'W'], 'colors': ['B',...  \n",
       "4  [{'colorIdentity': ['B'], 'colors': ['B'], 'co...  \n",
       "5  [{'colorIdentity': ['B'], 'colors': ['B'], 'co...  \n",
       "6  [{'colorIdentity': ['W'], 'colors': ['W'], 'co...  "
      ]
     },
     "execution_count": 43,
     "metadata": {},
     "output_type": "execute_result"
    }
   ],
   "source": [
    "keep_list = ['index','data']\n",
    "cleaned_data = cleaned_data[keep_list].dropna()\n",
    "cleaned_data.head()"
   ]
  },
  {
   "cell_type": "code",
   "execution_count": 56,
   "id": "5d08b91e-9975-4adc-a310-aecac1a32993",
   "metadata": {},
   "outputs": [
    {
     "data": {
      "text/plain": [
       "Index(['colorIdentity', 'colors', 'convertedManaCost', 'firstPrinting',\n",
       "       'foreignData', 'isFunny', 'layout', 'manaCost', 'manaValue', 'name',\n",
       "       'printings', 'subtypes', 'supertypes', 'text', 'type', 'types',\n",
       "       'identifiers.scryfallOracleId', 'purchaseUrls.cardKingdom',\n",
       "       'purchaseUrls.cardKingdomFoil', 'purchaseUrls.cardmarket',\n",
       "       'purchaseUrls.tcgplayer'],\n",
       "      dtype='object')"
      ]
     },
     "execution_count": 56,
     "metadata": {},
     "output_type": "execute_result"
    }
   ],
   "source": [
    "# test_data = cleaned_data.iloc[3]['data'][0]\n",
    "test_data = cleaned_data\n",
    "test_data['data_to_dict']\n",
    "test_data\n",
    "# pd.json_normalize(cleaned_data['data'])\n",
    "pd.json_normalize(test_data).columns"
   ]
  },
  {
   "cell_type": "code",
   "execution_count": null,
   "id": "d2af0df6-0233-4ae9-ae50-f65d7688bb32",
   "metadata": {},
   "outputs": [],
   "source": []
  },
  {
   "cell_type": "code",
   "execution_count": null,
   "id": "bce08ed0-f163-4f8e-9282-4dda9d32dc5c",
   "metadata": {},
   "outputs": [],
   "source": []
  }
 ],
 "metadata": {
  "kernelspec": {
   "display_name": "Python 3 (ipykernel)",
   "language": "python",
   "name": "python3"
  },
  "language_info": {
   "codemirror_mode": {
    "name": "ipython",
    "version": 3
   },
   "file_extension": ".py",
   "mimetype": "text/x-python",
   "name": "python",
   "nbconvert_exporter": "python",
   "pygments_lexer": "ipython3",
   "version": "3.11.5"
  }
 },
 "nbformat": 4,
 "nbformat_minor": 5
}
