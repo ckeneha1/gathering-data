{
 "cells": [
  {
   "cell_type": "markdown",
   "id": "bc40af45-5f2b-47ee-bac7-7baa3e57920c",
   "metadata": {},
   "source": [
    "Let's take a look at some card-level data, courtesy of mtgjson.\n",
    "Here's specifically where to find what I'm using:\n",
    "https://mtgjson.com/downloads/all-files/"
   ]
  },
  {
   "cell_type": "code",
   "execution_count": 2,
   "id": "12b613cc-731d-4d66-9247-4ccceec9e5df",
   "metadata": {},
   "outputs": [],
   "source": [
    "# data_path = '/Users/connorkenehan/Documents/GitHub/gathering-data/data/AtomicCards.json.zip'\n",
    "data_path = '/Users/connorkenehan/Downloads/AtomicCards.json'\n",
    "import pandas as pd\n",
    "data = pd.read_json(data_path)"
   ]
  },
  {
   "cell_type": "code",
   "execution_count": 3,
   "id": "14520e22-2aa9-4419-a0b0-0a0262cbc2a1",
   "metadata": {},
   "outputs": [
    {
     "data": {
      "text/html": [
       "<div>\n",
       "<style scoped>\n",
       "    .dataframe tbody tr th:only-of-type {\n",
       "        vertical-align: middle;\n",
       "    }\n",
       "\n",
       "    .dataframe tbody tr th {\n",
       "        vertical-align: top;\n",
       "    }\n",
       "\n",
       "    .dataframe thead th {\n",
       "        text-align: right;\n",
       "    }\n",
       "</style>\n",
       "<table border=\"1\" class=\"dataframe\">\n",
       "  <thead>\n",
       "    <tr style=\"text-align: right;\">\n",
       "      <th></th>\n",
       "      <th>meta</th>\n",
       "      <th>data</th>\n",
       "    </tr>\n",
       "  </thead>\n",
       "  <tbody>\n",
       "    <tr>\n",
       "      <th>date</th>\n",
       "      <td>2023-08-24</td>\n",
       "      <td>NaN</td>\n",
       "    </tr>\n",
       "    <tr>\n",
       "      <th>version</th>\n",
       "      <td>5.2.1+20230824</td>\n",
       "      <td>NaN</td>\n",
       "    </tr>\n",
       "    <tr>\n",
       "      <th>\"Ach! Hans, Run!\"</th>\n",
       "      <td>NaN</td>\n",
       "      <td>[{'colorIdentity': ['G', 'R'], 'colors': ['G',...</td>\n",
       "    </tr>\n",
       "    <tr>\n",
       "      <th>\"Brims\" Barone, Midway Mobster</th>\n",
       "      <td>NaN</td>\n",
       "      <td>[{'colorIdentity': ['B', 'W'], 'colors': ['B',...</td>\n",
       "    </tr>\n",
       "    <tr>\n",
       "      <th>\"Lifetime\" Pass Holder</th>\n",
       "      <td>NaN</td>\n",
       "      <td>[{'colorIdentity': ['B'], 'colors': ['B'], 'co...</td>\n",
       "    </tr>\n",
       "  </tbody>\n",
       "</table>\n",
       "</div>"
      ],
      "text/plain": [
       "                                          meta  \\\n",
       "date                                2023-08-24   \n",
       "version                         5.2.1+20230824   \n",
       "\"Ach! Hans, Run!\"                          NaN   \n",
       "\"Brims\" Barone, Midway Mobster             NaN   \n",
       "\"Lifetime\" Pass Holder                     NaN   \n",
       "\n",
       "                                                                             data  \n",
       "date                                                                          NaN  \n",
       "version                                                                       NaN  \n",
       "\"Ach! Hans, Run!\"               [{'colorIdentity': ['G', 'R'], 'colors': ['G',...  \n",
       "\"Brims\" Barone, Midway Mobster  [{'colorIdentity': ['B', 'W'], 'colors': ['B',...  \n",
       "\"Lifetime\" Pass Holder          [{'colorIdentity': ['B'], 'colors': ['B'], 'co...  "
      ]
     },
     "execution_count": 3,
     "metadata": {},
     "output_type": "execute_result"
    }
   ],
   "source": [
    "#let's see how the whole dataframe looks\n",
    "data.head()"
   ]
  },
  {
   "cell_type": "code",
   "execution_count": 4,
   "id": "c81677a0-86a6-40f7-bc61-266d457c0538",
   "metadata": {},
   "outputs": [
    {
     "data": {
      "text/plain": [
       "[{'colorIdentity': ['G', 'R'],\n",
       "  'colors': ['G', 'R'],\n",
       "  'convertedManaCost': 6.0,\n",
       "  'firstPrinting': 'UNH',\n",
       "  'foreignData': [],\n",
       "  'identifiers': {'scryfallOracleId': 'a2c5ee76-6084-413c-bb70-45490d818374'},\n",
       "  'isFunny': True,\n",
       "  'layout': 'normal',\n",
       "  'legalities': {},\n",
       "  'manaCost': '{2}{R}{R}{G}{G}',\n",
       "  'manaValue': 6.0,\n",
       "  'name': '\"Ach! Hans, Run!\"',\n",
       "  'printings': ['UNH'],\n",
       "  'purchaseUrls': {'cardKingdom': 'https://mtgjson.com/links/84dfefe718a51cf8',\n",
       "   'cardKingdomFoil': 'https://mtgjson.com/links/d8c9f3fc1e93c89c',\n",
       "   'cardmarket': 'https://mtgjson.com/links/b9d69f0d1a9fb80c',\n",
       "   'tcgplayer': 'https://mtgjson.com/links/c51d2b13ff76f1f0'},\n",
       "  'subtypes': [],\n",
       "  'supertypes': [],\n",
       "  'text': 'At the beginning of your upkeep, you may say \"Ach! Hans, run! It\\'s the . . .\" and the name of a creature card. If you do, search your library for a card with that name, put it onto the battlefield, then shuffle. That creature gains haste. Exile it at the beginning of the next end step.',\n",
       "  'type': 'Enchantment',\n",
       "  'types': ['Enchantment']}]"
      ]
     },
     "execution_count": 4,
     "metadata": {},
     "output_type": "execute_result"
    }
   ],
   "source": [
    "#that third field looks funky, let's check out an individual row\n",
    "data.iloc[2]['data']"
   ]
  },
  {
   "cell_type": "markdown",
   "id": "65d045a5-eaa0-4ae0-8689-7de2e7a5bfac",
   "metadata": {},
   "source": [
    "When we take a quick look at how our dataframe appears from the get-go, it's\n",
    "clear that we need to do some additional work to transform it into something\n",
    "we can easily work with and learn from.  Let's clean that data!"
   ]
  },
  {
   "cell_type": "markdown",
   "id": "df959fef-5068-4c50-b987-b230ca489ad2",
   "metadata": {},
   "source": [
    "Some observations from eyeballing the first few rows:\n",
    "1. We have three fields.\n",
    "2. The first field seems to be a card name\n",
    "3. The second field, called meta, appears to be metadata which we won't actually need while analyzing cards\n",
    "4. The third field, called data, seems to have everything we need in it...it's just all smooshed in a dictionary inside of a list.  So we'll have to unpack that a bit, but it's the only field we need out of this entire json!\n",
    "\n",
    "Let's get into it and clean that data!"
   ]
  },
  {
   "cell_type": "markdown",
   "id": "836d667e-1be6-45c6-b20b-dee195b898df",
   "metadata": {},
   "source": [
    "We know that there's some amount of null values in this dataset.  How much, and in what fields?"
   ]
  },
  {
   "cell_type": "code",
   "execution_count": 5,
   "id": "f785ba92-7f14-47a8-948c-a3f452d17baa",
   "metadata": {},
   "outputs": [
    {
     "name": "stdout",
     "output_type": "stream",
     "text": [
      "27352 total rows\n",
      "\n",
      " index : 0 null rows\n",
      "\n",
      " meta : 27350 null rows\n",
      "\n",
      " data : 2 null rows\n"
     ]
    }
   ],
   "source": [
    "cleaned_data = data.reset_index()\n",
    "\n",
    "def count_nulls(data, column):\n",
    "    na_count = data[column].isna().sum()\n",
    "    print('\\n',column,':',na_count,'null rows')\n",
    "\n",
    "print(len(cleaned_data),'total rows')\n",
    "for column in cleaned_data.columns:\n",
    "    count_nulls(cleaned_data, column)\n"
   ]
  },
  {
   "cell_type": "markdown",
   "id": "2ae0701c-cac8-453c-ab74-dfaf1f83daaa",
   "metadata": {},
   "source": [
    "Ok, so these counts tell us that our meta column is only those two rows we saw when we looked at the top chunk of the dataset.  We also learn that our main (data) field only has two nulls in it, which we also saw earlier.  Let's drop the meta field and those null rows.\n",
    "\n",
    "Finally, since we know that our data field contains everything we need, let's drop the index field and transform the contents of data into individual data fields we can do analysis on more easily."
   ]
  },
  {
   "cell_type": "code",
   "execution_count": 6,
   "id": "06cd9b89-6e93-4eb5-a14f-fd25783756f8",
   "metadata": {},
   "outputs": [
    {
     "data": {
      "text/html": [
       "<div>\n",
       "<style scoped>\n",
       "    .dataframe tbody tr th:only-of-type {\n",
       "        vertical-align: middle;\n",
       "    }\n",
       "\n",
       "    .dataframe tbody tr th {\n",
       "        vertical-align: top;\n",
       "    }\n",
       "\n",
       "    .dataframe thead th {\n",
       "        text-align: right;\n",
       "    }\n",
       "</style>\n",
       "<table border=\"1\" class=\"dataframe\">\n",
       "  <thead>\n",
       "    <tr style=\"text-align: right;\">\n",
       "      <th></th>\n",
       "      <th>data</th>\n",
       "    </tr>\n",
       "  </thead>\n",
       "  <tbody>\n",
       "    <tr>\n",
       "      <th>2</th>\n",
       "      <td>[{'colorIdentity': ['G', 'R'], 'colors': ['G',...</td>\n",
       "    </tr>\n",
       "    <tr>\n",
       "      <th>3</th>\n",
       "      <td>[{'colorIdentity': ['B', 'W'], 'colors': ['B',...</td>\n",
       "    </tr>\n",
       "    <tr>\n",
       "      <th>4</th>\n",
       "      <td>[{'colorIdentity': ['B'], 'colors': ['B'], 'co...</td>\n",
       "    </tr>\n",
       "    <tr>\n",
       "      <th>5</th>\n",
       "      <td>[{'colorIdentity': ['B'], 'colors': ['B'], 'co...</td>\n",
       "    </tr>\n",
       "    <tr>\n",
       "      <th>6</th>\n",
       "      <td>[{'colorIdentity': ['W'], 'colors': ['W'], 'co...</td>\n",
       "    </tr>\n",
       "  </tbody>\n",
       "</table>\n",
       "</div>"
      ],
      "text/plain": [
       "                                                data\n",
       "2  [{'colorIdentity': ['G', 'R'], 'colors': ['G',...\n",
       "3  [{'colorIdentity': ['B', 'W'], 'colors': ['B',...\n",
       "4  [{'colorIdentity': ['B'], 'colors': ['B'], 'co...\n",
       "5  [{'colorIdentity': ['B'], 'colors': ['B'], 'co...\n",
       "6  [{'colorIdentity': ['W'], 'colors': ['W'], 'co..."
      ]
     },
     "execution_count": 6,
     "metadata": {},
     "output_type": "execute_result"
    }
   ],
   "source": [
    "keep_list = ['data']\n",
    "keep_data = cleaned_data[keep_list].dropna()\n",
    "keep_data.head()"
   ]
  },
  {
   "cell_type": "code",
   "execution_count": 7,
   "id": "5d08b91e-9975-4adc-a310-aecac1a32993",
   "metadata": {},
   "outputs": [
    {
     "data": {
      "text/html": [
       "<div>\n",
       "<style scoped>\n",
       "    .dataframe tbody tr th:only-of-type {\n",
       "        vertical-align: middle;\n",
       "    }\n",
       "\n",
       "    .dataframe tbody tr th {\n",
       "        vertical-align: top;\n",
       "    }\n",
       "\n",
       "    .dataframe thead th {\n",
       "        text-align: right;\n",
       "    }\n",
       "</style>\n",
       "<table border=\"1\" class=\"dataframe\">\n",
       "  <thead>\n",
       "    <tr style=\"text-align: right;\">\n",
       "      <th></th>\n",
       "      <th>colorIdentity</th>\n",
       "      <th>colors</th>\n",
       "      <th>convertedManaCost</th>\n",
       "      <th>firstPrinting</th>\n",
       "      <th>foreignData</th>\n",
       "      <th>isFunny</th>\n",
       "      <th>layout</th>\n",
       "      <th>manaCost</th>\n",
       "      <th>manaValue</th>\n",
       "      <th>name</th>\n",
       "      <th>...</th>\n",
       "      <th>isReserved</th>\n",
       "      <th>legalities.oldschool</th>\n",
       "      <th>purchaseUrls.cardKingdomEtched</th>\n",
       "      <th>purchaseUrls.tcgplayerEtched</th>\n",
       "      <th>hand</th>\n",
       "      <th>life</th>\n",
       "      <th>colorIndicator</th>\n",
       "      <th>asciiName</th>\n",
       "      <th>hasAlternativeDeckLimit</th>\n",
       "      <th>defense</th>\n",
       "    </tr>\n",
       "  </thead>\n",
       "  <tbody>\n",
       "    <tr>\n",
       "      <th>0</th>\n",
       "      <td>[G, R]</td>\n",
       "      <td>[G, R]</td>\n",
       "      <td>6.0</td>\n",
       "      <td>UNH</td>\n",
       "      <td>[]</td>\n",
       "      <td>True</td>\n",
       "      <td>normal</td>\n",
       "      <td>{2}{R}{R}{G}{G}</td>\n",
       "      <td>6.0</td>\n",
       "      <td>\"Ach! Hans, Run!\"</td>\n",
       "      <td>...</td>\n",
       "      <td>NaN</td>\n",
       "      <td>NaN</td>\n",
       "      <td>NaN</td>\n",
       "      <td>NaN</td>\n",
       "      <td>NaN</td>\n",
       "      <td>NaN</td>\n",
       "      <td>NaN</td>\n",
       "      <td>NaN</td>\n",
       "      <td>NaN</td>\n",
       "      <td>NaN</td>\n",
       "    </tr>\n",
       "    <tr>\n",
       "      <th>1</th>\n",
       "      <td>[B, W]</td>\n",
       "      <td>[B, W]</td>\n",
       "      <td>5.0</td>\n",
       "      <td>UNF</td>\n",
       "      <td>[]</td>\n",
       "      <td>True</td>\n",
       "      <td>normal</td>\n",
       "      <td>{3}{W}{B}</td>\n",
       "      <td>5.0</td>\n",
       "      <td>\"Brims\" Barone, Midway Mobster</td>\n",
       "      <td>...</td>\n",
       "      <td>NaN</td>\n",
       "      <td>NaN</td>\n",
       "      <td>NaN</td>\n",
       "      <td>NaN</td>\n",
       "      <td>NaN</td>\n",
       "      <td>NaN</td>\n",
       "      <td>NaN</td>\n",
       "      <td>NaN</td>\n",
       "      <td>NaN</td>\n",
       "      <td>NaN</td>\n",
       "    </tr>\n",
       "    <tr>\n",
       "      <th>2</th>\n",
       "      <td>[B]</td>\n",
       "      <td>[B]</td>\n",
       "      <td>1.0</td>\n",
       "      <td>UNF</td>\n",
       "      <td>[]</td>\n",
       "      <td>NaN</td>\n",
       "      <td>normal</td>\n",
       "      <td>{B}</td>\n",
       "      <td>1.0</td>\n",
       "      <td>\"Lifetime\" Pass Holder</td>\n",
       "      <td>...</td>\n",
       "      <td>NaN</td>\n",
       "      <td>NaN</td>\n",
       "      <td>NaN</td>\n",
       "      <td>NaN</td>\n",
       "      <td>NaN</td>\n",
       "      <td>NaN</td>\n",
       "      <td>NaN</td>\n",
       "      <td>NaN</td>\n",
       "      <td>NaN</td>\n",
       "      <td>NaN</td>\n",
       "    </tr>\n",
       "    <tr>\n",
       "      <th>3</th>\n",
       "      <td>[B]</td>\n",
       "      <td>[B]</td>\n",
       "      <td>3.0</td>\n",
       "      <td>UST</td>\n",
       "      <td>[]</td>\n",
       "      <td>True</td>\n",
       "      <td>normal</td>\n",
       "      <td>{2}{B}</td>\n",
       "      <td>3.0</td>\n",
       "      <td>\"Rumors of My Death . . .\"</td>\n",
       "      <td>...</td>\n",
       "      <td>NaN</td>\n",
       "      <td>NaN</td>\n",
       "      <td>NaN</td>\n",
       "      <td>NaN</td>\n",
       "      <td>NaN</td>\n",
       "      <td>NaN</td>\n",
       "      <td>NaN</td>\n",
       "      <td>NaN</td>\n",
       "      <td>NaN</td>\n",
       "      <td>NaN</td>\n",
       "    </tr>\n",
       "    <tr>\n",
       "      <th>4</th>\n",
       "      <td>[W]</td>\n",
       "      <td>[W]</td>\n",
       "      <td>2.0</td>\n",
       "      <td>AFR</td>\n",
       "      <td>[]</td>\n",
       "      <td>NaN</td>\n",
       "      <td>normal</td>\n",
       "      <td>{1}{W}</td>\n",
       "      <td>2.0</td>\n",
       "      <td>+2 Mace</td>\n",
       "      <td>...</td>\n",
       "      <td>NaN</td>\n",
       "      <td>NaN</td>\n",
       "      <td>NaN</td>\n",
       "      <td>NaN</td>\n",
       "      <td>NaN</td>\n",
       "      <td>NaN</td>\n",
       "      <td>NaN</td>\n",
       "      <td>NaN</td>\n",
       "      <td>NaN</td>\n",
       "      <td>NaN</td>\n",
       "    </tr>\n",
       "  </tbody>\n",
       "</table>\n",
       "<p>5 rows × 65 columns</p>\n",
       "</div>"
      ],
      "text/plain": [
       "  colorIdentity  colors  convertedManaCost firstPrinting foreignData isFunny  \\\n",
       "0        [G, R]  [G, R]                6.0           UNH          []    True   \n",
       "1        [B, W]  [B, W]                5.0           UNF          []    True   \n",
       "2           [B]     [B]                1.0           UNF          []     NaN   \n",
       "3           [B]     [B]                3.0           UST          []    True   \n",
       "4           [W]     [W]                2.0           AFR          []     NaN   \n",
       "\n",
       "   layout         manaCost  manaValue                            name  ...  \\\n",
       "0  normal  {2}{R}{R}{G}{G}        6.0               \"Ach! Hans, Run!\"  ...   \n",
       "1  normal        {3}{W}{B}        5.0  \"Brims\" Barone, Midway Mobster  ...   \n",
       "2  normal              {B}        1.0          \"Lifetime\" Pass Holder  ...   \n",
       "3  normal           {2}{B}        3.0      \"Rumors of My Death . . .\"  ...   \n",
       "4  normal           {1}{W}        2.0                         +2 Mace  ...   \n",
       "\n",
       "  isReserved legalities.oldschool purchaseUrls.cardKingdomEtched  \\\n",
       "0        NaN                  NaN                            NaN   \n",
       "1        NaN                  NaN                            NaN   \n",
       "2        NaN                  NaN                            NaN   \n",
       "3        NaN                  NaN                            NaN   \n",
       "4        NaN                  NaN                            NaN   \n",
       "\n",
       "  purchaseUrls.tcgplayerEtched hand life colorIndicator asciiName  \\\n",
       "0                          NaN  NaN  NaN            NaN       NaN   \n",
       "1                          NaN  NaN  NaN            NaN       NaN   \n",
       "2                          NaN  NaN  NaN            NaN       NaN   \n",
       "3                          NaN  NaN  NaN            NaN       NaN   \n",
       "4                          NaN  NaN  NaN            NaN       NaN   \n",
       "\n",
       "  hasAlternativeDeckLimit defense  \n",
       "0                     NaN     NaN  \n",
       "1                     NaN     NaN  \n",
       "2                     NaN     NaN  \n",
       "3                     NaN     NaN  \n",
       "4                     NaN     NaN  \n",
       "\n",
       "[5 rows x 65 columns]"
      ]
     },
     "execution_count": 7,
     "metadata": {},
     "output_type": "execute_result"
    }
   ],
   "source": [
    "#assign a lambda function which \n",
    "#1. casts each dataframe row as a list\n",
    "#2. pulls the nth element out of each list value\n",
    "\n",
    "#then transform the resultant dictionary from key-values into columns\n",
    "\n",
    "dict_data = keep_data.assign(dict_data = lambda x: (x['data'].str[0]))[['dict_data']]\n",
    "dict_data = pd.json_normalize(dict_data['dict_data'])\n",
    "dict_data.head()"
   ]
  },
  {
   "cell_type": "code",
   "execution_count": 297,
   "id": "0861301e-f7d5-4937-b40b-3a308b9d013e",
   "metadata": {},
   "outputs": [
    {
     "data": {
      "text/plain": [
       "Index(['colorIdentity', 'colors', 'convertedManaCost', 'firstPrinting',\n",
       "       'foreignData', 'isFunny', 'layout', 'manaCost', 'manaValue', 'name',\n",
       "       'printings', 'subtypes', 'supertypes', 'text', 'type', 'types',\n",
       "       'identifiers.scryfallOracleId', 'purchaseUrls.cardKingdom',\n",
       "       'purchaseUrls.cardKingdomFoil', 'purchaseUrls.cardmarket',\n",
       "       'purchaseUrls.tcgplayer', 'edhrecRank', 'power', 'rulings', 'toughness',\n",
       "       'leadershipSkills.brawl', 'leadershipSkills.commander',\n",
       "       'leadershipSkills.oathbreaker', 'keywords', 'legalities.commander',\n",
       "       'legalities.duel', 'legalities.legacy', 'legalities.oathbreaker',\n",
       "       'legalities.vintage', 'legalities.explorer', 'legalities.gladiator',\n",
       "       'legalities.historic', 'legalities.historicbrawl', 'legalities.modern',\n",
       "       'legalities.pauper', 'legalities.paupercommander', 'legalities.penny',\n",
       "       'legalities.pioneer', 'edhrecSaltiness', 'legalities.alchemy',\n",
       "       'legalities.brawl', 'legalities.future', 'legalities.standard',\n",
       "       'faceName', 'side', 'faceConvertedManaCost', 'faceManaValue', 'loyalty',\n",
       "       'legalities.predh', 'legalities.premodern', 'isReserved',\n",
       "       'legalities.oldschool', 'purchaseUrls.cardKingdomEtched',\n",
       "       'purchaseUrls.tcgplayerEtched', 'hand', 'life', 'colorIndicator',\n",
       "       'asciiName', 'hasAlternativeDeckLimit', 'defense'],\n",
       "      dtype='object')"
      ]
     },
     "execution_count": 297,
     "metadata": {},
     "output_type": "execute_result"
    }
   ],
   "source": [
    "dict_data.columns"
   ]
  },
  {
   "cell_type": "markdown",
   "id": "b1c822a8-c12d-4fd5-97e7-ceae18519c18",
   "metadata": {},
   "source": [
    "Great!  Now that we've cleaned this data up a bit and transformed it into something we can analyze more easily, let's run some basic analysis to do a sense check on our dataset and understand it a bit better.\n",
    "\n",
    "Let's start by counting the number of cards in our dataset.  Some quick googling tells me that, over the game's history, over 25,000 unique Magic: The Gathering cards have been printed.  That's a lot!  We'd expect to see about that many cards in our dataset if we're counting correctly."
   ]
  },
  {
   "cell_type": "code",
   "execution_count": 14,
   "id": "3260fd7c-fa6a-4267-8fe2-8a5a49339ae5",
   "metadata": {},
   "outputs": [
    {
     "data": {
      "text/plain": [
       "27350"
      ]
     },
     "execution_count": 14,
     "metadata": {},
     "output_type": "execute_result"
    }
   ],
   "source": [
    "len(dict_data)"
   ]
  },
  {
   "cell_type": "markdown",
   "id": "d86464e0-4c76-4fa8-a66b-f13a016b1f7b",
   "metadata": {},
   "source": [
    "Great!  The total size of our dataset doesn't meaningfully differ from our anecdotal knowledge of what that data measures.  Since each row of our dataset matches to an individual card printed at some point in the history of the game, this is evidence that we're working with all of the data we should be.  If we saw far fewer (or far more!) rows in our dataset than what our anecdote tells us about the number of unique cards printed, we'd have some cause for concern.  However, what we're seeing out of our data is encouraging so far.\n",
    "\n",
    "Let's break down this aggregate count and look at the individual sets of Magic: The Gathering cards printed over time.  From looking at the documentation for our dataset, we know that the first set in which a given card was printed can be found in the 'firstPrinting' field.  Let's try to better understand not just the total number of cards out there, but the number of cards printed in each set.  We'll use a few summary statistics to do this:\n",
    "\n",
    "mean - on average, how many cards are printed in a set?\n",
    "\n",
    "median - what is the central value of the number of cards printed in a set?\n",
    "\n",
    "mode - what is the most common number of cards printed in a given set?\n",
    "\n",
    "variance - how much does a given set's card count deviate from the mean number of cards printed in any set?"
   ]
  },
  {
   "cell_type": "code",
   "execution_count": 28,
   "id": "591fffe6-6665-4dee-8208-f691c349f6df",
   "metadata": {},
   "outputs": [
    {
     "name": "stdout",
     "output_type": "stream",
     "text": [
      "\n",
      "mean: 127.75233644859813 \n",
      "median: 139.0 \n",
      "mode: 0      1\n",
      "1      3\n",
      "2      5\n",
      "3     30\n",
      "4    142\n",
      "5    143\n",
      "Name: name, dtype: int64 \n",
      "variance: 10052.487670571716\n"
     ]
    }
   ],
   "source": [
    "grouped_data = dict_data.groupby('firstPrinting').count()['name'].reset_index()\n",
    "#calculate mean\n",
    "print('\\nmean:',grouped_data['name'].mean(),\n",
    "#calculate median\n",
    "'\\nmedian:',grouped_data['name'].median(),\n",
    "#calculate mode\n",
    "'\\nmode:',grouped_data['name'].mode(),\n",
    "#calculate variance\n",
    "'\\nvariance:',grouped_data['name'].var())"
   ]
  },
  {
   "cell_type": "code",
   "execution_count": 19,
   "id": "16cbcecc-c1cf-4c5c-8d25-3218c33c169a",
   "metadata": {},
   "outputs": [
    {
     "data": {
      "text/plain": [
       "<Axes: xlabel='firstPrinting', ylabel='Count'>"
      ]
     },
     "execution_count": 19,
     "metadata": {},
     "output_type": "execute_result"
    },
    {
     "data": {
      "image/png": "[encoded data removed]",
      "text/plain": [
       "<Figure size 640x480 with 1 Axes>"
      ]
     },
     "metadata": {},
     "output_type": "display_data"
    }
   ],
   "source": [
    "import seaborn as sns\n",
    "sns.histplot(data = dict_data, x = 'firstPrinting')"
   ]
  },
  {
   "cell_type": "markdown",
   "id": "6f3af319-8b2d-4588-9f0d-9297d9d5bdc3",
   "metadata": {},
   "source": [
    "...Huh.\n",
    "\n",
    "We've learned our second unexpected lesson from our dataset: there are a LOT of Magic: The Gathering card sets!  214 sets, to be exact!"
   ]
  },
  {
   "cell_type": "code",
   "execution_count": 20,
   "id": "623b89ce-bc85-4c58-b2ed-cd4acf10c3cf",
   "metadata": {},
   "outputs": [
    {
     "data": {
      "text/plain": [
       "214"
      ]
     },
     "execution_count": 20,
     "metadata": {},
     "output_type": "execute_result"
    }
   ],
   "source": [
    "dict_data['firstPrinting'].nunique()"
   ]
  },
  {
   "cell_type": "markdown",
   "id": "6c485603-39d5-4d48-81a1-c0eb328ba91c",
   "metadata": {},
   "source": [
    "Taking a closer look at our chart, clutter notwithstanding, we can also see that the y-axis value corresponding to a given x-axis value fluctuates pretty substantially.  This indicates thatWe'll obviously need to "
   ]
  },
  {
   "cell_type": "code",
   "execution_count": null,
   "id": "c580c961-355b-48c1-8d13-112ddc611693",
   "metadata": {},
   "outputs": [],
   "source": []
  }
 ],
 "metadata": {
  "kernelspec": {
   "display_name": "Python 3 (ipykernel)",
   "language": "python",
   "name": "python3"
  },
  "language_info": {
   "codemirror_mode": {
    "name": "ipython",
    "version": 3
   },
   "file_extension": ".py",
   "mimetype": "text/x-python",
   "name": "python",
   "nbconvert_exporter": "python",
   "pygments_lexer": "ipython3",
   "version": "3.11.5"
  }
 },
 "nbformat": 4,
 "nbformat_minor": 5
}
